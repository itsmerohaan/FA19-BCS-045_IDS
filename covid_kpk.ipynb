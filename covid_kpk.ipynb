{
  "nbformat": 4,
  "nbformat_minor": 0,
  "metadata": {
    "colab": {
      "provenance": [],
      "collapsed_sections": []
    },
    "kernelspec": {
      "name": "python3",
      "display_name": "Python 3"
    },
    "language_info": {
      "name": "python"
    }
  },
  "cells": [
    {
      "cell_type": "code",
      "execution_count": null,
      "metadata": {
        "id": "12n6wD8NDB1l"
      },
      "outputs": [],
      "source": [
        "#import libraries\n",
        "import folium\n",
        "import pandas as pd"
      ]
    },
    {
      "cell_type": "code",
      "source": [
        "#create a map on KPK location\n",
        "kpk_map = folium.Map(location = [34.9526,72.3311],zoom_start=7,tiles='OpenStreetMap')\n",
        "#kpk_map"
      ],
      "metadata": {
        "id": "ncu7i6Y-DU6P"
      },
      "execution_count": null,
      "outputs": []
    },
    {
      "cell_type": "code",
      "source": [
        "#import Google Drive and mount the entire drive\n",
        "from google.colab import drive\n",
        "drive.mount('/content/drive')"
      ],
      "metadata": {
        "id": "mwPS56uhDXE5"
      },
      "execution_count": null,
      "outputs": []
    },
    {
      "cell_type": "code",
      "source": [
        "#load the dataset (csv file) into the Pandas dataframe\n",
        "df = pd.read_csv('/content/drive/My Drive/IDS/covid_kpk.csv')\n",
        "df"
      ],
      "metadata": {
        "id": "rPK2qIgADZWw"
      },
      "execution_count": null,
      "outputs": []
    },
    {
      "cell_type": "code",
      "source": [
        "#calculate total number of cases using a loop\n",
        "t = 0\n",
        "for c in df['Total cases']:\n",
        "  t = int(c)+int(t)"
      ],
      "metadata": {
        "id": "_-eQZ1ADDdxw"
      },
      "execution_count": null,
      "outputs": []
    },
    {
      "cell_type": "code",
      "source": [
        "#mark circles on the map and displa the map\n",
        "for city,lat,long,tc,de,re,ac in zip(list(df['Cities']),list(df['Latitude']),list(df['Longitude']),list(df['Total cases']),list(df['Deaths']),list(df['Recoveries']),list(df['Active Cases'])):\n",
        "    folium.CircleMarker(location = [lat,long],\n",
        "                       radius = (tc/t)*100,\n",
        "                       color = 'red',\n",
        "                       fill = False,\n",
        "                       fill_color = 'blue').add_to(kpk_map)\n",
        "    xyz = '<strong>City:  ' + city + '</strong><br>' + 'Total Cases: ' + str(tc) + '<br>' + 'Deaths: '+ str(de) + '<br>' + 'Recoveries: ' + str(re) + '<br>' + 'Active Cases: ' + str(ac)\n",
        "    iframe = folium.IFrame(xyz, width=200, height=150)\n",
        "    popupData = folium.Popup(iframe, max_width=500)\n",
        "    folium.Marker(location = [lat,long], popup=popupData).add_to(kpk_map)\n",
        "    \n",
        "\n",
        "kpk_map"
      ],
      "metadata": {
        "id": "_m68uM9dDhWF"
      },
      "execution_count": null,
      "outputs": []
    }
  ]
}