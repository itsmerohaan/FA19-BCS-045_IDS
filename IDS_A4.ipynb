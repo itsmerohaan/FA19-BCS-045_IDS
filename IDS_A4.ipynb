{
  "cells": [
    {
      "cell_type": "code",
      "execution_count": null,
      "id": "01681e49-c034-40e6-918d-f1f5191aa071",
      "metadata": {
        "id": "01681e49-c034-40e6-918d-f1f5191aa071"
      },
      "outputs": [],
      "source": [
        "import pandas as pd \n",
        "from sklearn import preprocessing"
      ]
    },
    {
      "cell_type": "code",
      "execution_count": null,
      "id": "6cf597ef-dccf-4d10-9433-017f96c58cb3",
      "metadata": {
        "id": "6cf597ef-dccf-4d10-9433-017f96c58cb3"
      },
      "outputs": [],
      "source": [
        "from sklearn.ensemble import RandomForestClassifier\n",
        "from sklearn.svm import SVC, LinearSVC\n",
        "from sklearn.neural_network import MLPClassifier\n",
        "from sklearn.tree import DecisionTreeClassifier\n",
        "from sklearn.naive_bayes import GaussianNB\n",
        "\n",
        "from sklearn.model_selection import train_test_split\n",
        "from sklearn.model_selection import ShuffleSplit\n",
        "from sklearn.model_selection import LeavePOut\n",
        "from sklearn.model_selection import cross_val_score\n",
        "\n",
        "from sklearn.metrics import accuracy_score, f1_score, precision_score, recall_score\n",
        "\n",
        "import warnings\n",
        "warnings.filterwarnings('always')"
      ]
    },
    {
      "cell_type": "code",
      "source": [
        "from google.colab import drive\n",
        "drive.mount('/content/drive')"
      ],
      "metadata": {
        "colab": {
          "base_uri": "https://localhost:8080/"
        },
        "id": "GyQwr4MryoAJ",
        "outputId": "6f82921b-bc0d-4fd7-c615-5e2841b484d4"
      },
      "id": "GyQwr4MryoAJ",
      "execution_count": null,
      "outputs": [
        {
          "output_type": "stream",
          "name": "stdout",
          "text": [
            "Mounted at /content/drive\n"
          ]
        }
      ]
    },
    {
      "cell_type": "code",
      "execution_count": null,
      "id": "1054b8ed-a963-4c31-b2cf-5bc4a2b31520",
      "metadata": {
        "id": "1054b8ed-a963-4c31-b2cf-5bc4a2b31520"
      },
      "outputs": [],
      "source": [
        "df = pd.read_csv('/content/drive/My Drive/IDS/gender-prediction.csv')\n",
        "df"
      ]
    },
    {
      "cell_type": "code",
      "execution_count": null,
      "id": "6593713b-a5ac-43e5-98f1-c0ba9721d822",
      "metadata": {
        "id": "6593713b-a5ac-43e5-98f1-c0ba9721d822"
      },
      "outputs": [],
      "source": [
        "labels = preprocessing.LabelEncoder()\n",
        "\n",
        "beard_encoded = labels.fit_transform(df['beard'])\n",
        "hair_length_encoded = labels.fit_transform(df['hair_length'])\n",
        "scarf_encoded = labels.fit_transform(df['scarf'])\n",
        "eye_color_encoded = labels.fit_transform(df['eye_color'])\n",
        "\n",
        "x_encoded = list(zip(df['height'], df['weight'], beard_encoded, hair_length_encoded, df['shoe_size'], scarf_encoded, eye_color_encoded))"
      ]
    },
    {
      "cell_type": "code",
      "execution_count": null,
      "id": "c24d626b-b8a1-4ebb-b136-406f070d9a67",
      "metadata": {
        "id": "c24d626b-b8a1-4ebb-b136-406f070d9a67"
      },
      "outputs": [],
      "source": [
        "y = df['gender']\n",
        "y_encoded = labels.fit_transform(y)"
      ]
    },
    {
      "cell_type": "code",
      "execution_count": null,
      "id": "2b604730-661b-4781-9f9a-693b51034aba",
      "metadata": {
        "id": "2b604730-661b-4781-9f9a-693b51034aba"
      },
      "outputs": [],
      "source": [
        "X_train, x_test, Y_train, y_test = train_test_split(x_encoded, y_encoded, test_size = 0.33, random_state = 1)"
      ]
    },
    {
      "cell_type": "code",
      "execution_count": null,
      "id": "cda0e83f-d1ff-47a3-886c-69b2eeef8ca3",
      "metadata": {
        "id": "cda0e83f-d1ff-47a3-886c-69b2eeef8ca3"
      },
      "outputs": [],
      "source": [
        "random_forest_model = RandomForestClassifier()\n",
        "svc_model = SVC()\n",
        "mlp_model = MLPClassifier()"
      ]
    },
    {
      "cell_type": "code",
      "execution_count": null,
      "id": "a2eb2fda-6a1d-4435-9a72-1f968c740956",
      "metadata": {
        "id": "a2eb2fda-6a1d-4435-9a72-1f968c740956"
      },
      "outputs": [],
      "source": [
        "random_forest_model.fit(X_train,Y_train)\n",
        "svc_model.fit(X_train,Y_train)\n",
        "mlp_model.fit(X_train,Y_train)"
      ]
    },
    {
      "cell_type": "code",
      "execution_count": null,
      "id": "2791a386-2c39-439f-b381-bcf5ce75b49a",
      "metadata": {
        "id": "2791a386-2c39-439f-b381-bcf5ce75b49a"
      },
      "outputs": [],
      "source": [
        "random_forest_prediction = random_forest_model.predict(x_test)\n",
        "svc_prediction = svc_model.predict(x_test)\n",
        "mlp_prediction = mlp_model.predict(x_test)"
      ]
    },
    {
      "cell_type": "code",
      "execution_count": null,
      "id": "9ec46e6b-d6ab-45a1-a6f0-09ba79a29c80",
      "metadata": {
        "id": "9ec46e6b-d6ab-45a1-a6f0-09ba79a29c80"
      },
      "outputs": [],
      "source": [
        "random_forest_model_acc = accuracy_score(y_test, random_forest_prediction)*100\n",
        "svc_model_acc = accuracy_score(y_test, svc_prediction)*100\n",
        "mlp_model_acc = accuracy_score(y_test, mlp_prediction)*100\n",
        "print(\"Random forest accuracy\", random_forest_model_acc, \"%\")\n",
        "print(\"Support Vector Machine accuracy\", svc_model_acc, \"%\")\n",
        "print(\"Multilayer Perceptron accuracy\", mlp_model_acc, \"%\")"
      ]
    },
    {
      "cell_type": "code",
      "execution_count": null,
      "id": "9c10c55f-5852-4a4d-86ef-6e68bcbb89fa",
      "metadata": {
        "id": "9c10c55f-5852-4a4d-86ef-6e68bcbb89fa"
      },
      "outputs": [],
      "source": [
        "#using train/test split ratio of 80/20\n",
        "X_train, x_test, Y_train, y_test = train_test_split(x_encoded, y_encoded, test_size = 0.2, random_state = 3)"
      ]
    },
    {
      "cell_type": "code",
      "execution_count": null,
      "id": "34449cca-b7dd-4fb7-a8ab-d5ec1f4a25f3",
      "metadata": {
        "id": "34449cca-b7dd-4fb7-a8ab-d5ec1f4a25f3"
      },
      "outputs": [],
      "source": [
        "random_forest_model = RandomForestClassifier()\n",
        "svc_model = SVC()\n",
        "mlp_model = MLPClassifier()"
      ]
    },
    {
      "cell_type": "code",
      "execution_count": null,
      "id": "85cbba33-c075-48e0-b69b-7634f8add9f8",
      "metadata": {
        "id": "85cbba33-c075-48e0-b69b-7634f8add9f8"
      },
      "outputs": [],
      "source": [
        "random_forest_model.fit(X_train,Y_train)\n",
        "svc_model.fit(X_train,Y_train)\n",
        "mlp_model.fit(X_train,Y_train)"
      ]
    },
    {
      "cell_type": "code",
      "execution_count": null,
      "id": "547b6c70-02be-4a4d-959f-0e49ce830c13",
      "metadata": {
        "id": "547b6c70-02be-4a4d-959f-0e49ce830c13"
      },
      "outputs": [],
      "source": [
        "random_forest_prediction = random_forest_model.predict(x_test)\n",
        "svc_prediction = svc_model.predict(x_test)\n",
        "mlp_prediction = mlp_model.predict(x_test)"
      ]
    },
    {
      "cell_type": "code",
      "execution_count": null,
      "id": "836f731e-6c40-4879-995c-576bf345bf2a",
      "metadata": {
        "id": "836f731e-6c40-4879-995c-576bf345bf2a"
      },
      "outputs": [],
      "source": [
        "random_forest_model_acc = accuracy_score(y_test, random_forest_prediction)*100\n",
        "svc_model_acc = accuracy_score(y_test, svc_prediction)*100\n",
        "mlp_model_acc = accuracy_score(y_test, mlp_prediction)*100\n",
        "print(\"Random forest accuracy\", random_forest_model_acc, \"%\")\n",
        "print(\"Support Vector Machine accuracy\", svc_model_acc, \"%\")\n",
        "print(\"Multilayer Perceptron accuracy\", mlp_model_acc, \"%\")"
      ]
    },
    {
      "cell_type": "code",
      "execution_count": null,
      "id": "fe5d631f-2e7c-45de-b30b-b4694e84f969",
      "metadata": {
        "id": "fe5d631f-2e7c-45de-b30b-b4694e84f969"
      },
      "outputs": [],
      "source": [
        "# 2 believed most powerful attributes are Beard and scarf\n",
        "#remvoing these two attributes\n",
        "x_encoded = list(zip(df['height'], df['weight'], hair_length_encoded, df['shoe_size'], eye_color_encoded))\n",
        "y = df['gender']\n",
        "y_encoded = labels.fit_transform(y)"
      ]
    },
    {
      "cell_type": "code",
      "execution_count": null,
      "id": "823163bf-f522-4c95-9dbc-602113d67166",
      "metadata": {
        "id": "823163bf-f522-4c95-9dbc-602113d67166"
      },
      "outputs": [],
      "source": [
        "X_train, x_test, Y_train, y_test = train_test_split(x_encoded, y_encoded, test_size = 0.2, random_state = 1)"
      ]
    },
    {
      "cell_type": "code",
      "execution_count": null,
      "id": "253964e1-c45b-45ea-b254-30901fcca8cf",
      "metadata": {
        "id": "253964e1-c45b-45ea-b254-30901fcca8cf"
      },
      "outputs": [],
      "source": [
        "random_forest_model = RandomForestClassifier()\n",
        "svc_model = SVC()\n",
        "mlp_model = MLPClassifier()"
      ]
    },
    {
      "cell_type": "code",
      "execution_count": null,
      "id": "0cee5a79-f379-4177-a9a8-bdb9261e2f57",
      "metadata": {
        "id": "0cee5a79-f379-4177-a9a8-bdb9261e2f57"
      },
      "outputs": [],
      "source": [
        "random_forest_model.fit(X_train,Y_train)\n",
        "svc_model.fit(X_train,Y_train)\n",
        "mlp_model.fit(X_train,Y_train)"
      ]
    },
    {
      "cell_type": "code",
      "execution_count": null,
      "id": "cd50a994-2d3f-4fba-ad58-21a27ff537ce",
      "metadata": {
        "id": "cd50a994-2d3f-4fba-ad58-21a27ff537ce"
      },
      "outputs": [],
      "source": [
        "random_forest_prediction = random_forest_model.predict(x_test)\n",
        "svc_prediction = svc_model.predict(x_test)\n",
        "mlp_prediction = mlp_model.predict(x_test)"
      ]
    },
    {
      "cell_type": "code",
      "execution_count": null,
      "id": "bdd894f7-4bc8-42af-91a7-8241f80c44cd",
      "metadata": {
        "colab": {
          "base_uri": "https://localhost:8080/"
        },
        "id": "bdd894f7-4bc8-42af-91a7-8241f80c44cd",
        "outputId": "55f2b7e4-6d41-48ce-c193-c7774f58a91b"
      },
      "outputs": [
        {
          "output_type": "stream",
          "name": "stdout",
          "text": [
            "Random forest accuracy 100.0 %\n",
            "Support Vector Machine accuracy 87.5 %\n",
            "Multilayer Perceptron accuracy 50.0 %\n"
          ]
        }
      ],
      "source": [
        "random_forest_model_acc = accuracy_score(y_test, random_forest_prediction)*100\n",
        "svc_model_acc = accuracy_score(y_test, svc_prediction)*100\n",
        "mlp_model_acc = accuracy_score(y_test, mlp_prediction)*100\n",
        "print(\"Random forest accuracy\", random_forest_model_acc, \"%\")\n",
        "print(\"Support Vector Machine accuracy\", svc_model_acc, \"%\")\n",
        "print(\"Multilayer Perceptron accuracy\", mlp_model_acc, \"%\")"
      ]
    },
    {
      "cell_type": "code",
      "execution_count": null,
      "id": "6171e61c-c2f8-4fa4-b3f0-37dc3cd7ee48",
      "metadata": {
        "id": "6171e61c-c2f8-4fa4-b3f0-37dc3cd7ee48"
      },
      "outputs": [],
      "source": [
        "x_encoded = list(zip(df['height'], df['weight'], beard_encoded, hair_length_encoded, df['shoe_size'], scarf_encoded, eye_color_encoded))\n",
        "y = df['gender']\n",
        "y_encoded = labels.fit_transform(y)"
      ]
    },
    {
      "cell_type": "code",
      "execution_count": null,
      "id": "af82a67c-7422-4b59-8340-e78e83d3b482",
      "metadata": {
        "id": "af82a67c-7422-4b59-8340-e78e83d3b482"
      },
      "outputs": [],
      "source": [
        "#Monte Carlo cross-validation\n",
        "monte_carlo = ShuffleSplit(n_splits=5,test_size=0.33,random_state=3)"
      ]
    },
    {
      "cell_type": "code",
      "execution_count": null,
      "id": "ada2abf6-bc64-4855-8327-3e6abd645631",
      "metadata": {
        "id": "ada2abf6-bc64-4855-8327-3e6abd645631"
      },
      "outputs": [],
      "source": [
        "decision_tree_model = DecisionTreeClassifier()"
      ]
    },
    {
      "cell_type": "code",
      "execution_count": null,
      "id": "e2d03b8b-e53c-4b36-bd8e-e3b123d49bee",
      "metadata": {
        "id": "e2d03b8b-e53c-4b36-bd8e-e3b123d49bee"
      },
      "outputs": [],
      "source": [
        "monte_carlo_acc = cross_val_score(decision_tree_model,x_encoded,y_encoded,cv=monte_carlo).mean() * 100\n",
        "monte_carlo_f1 = cross_val_score(decision_tree_model,x_encoded,y_encoded, scoring=\"f1\", cv=monte_carlo).mean() * 100\n",
        "print(\"Monte Carlo cross-validation accuracy\", monte_carlo_acc, \"%\")\n",
        "print(\"Monte Carlo cross-validation F1 score\", monte_carlo_f1, \"%\")"
      ]
    },
    {
      "cell_type": "code",
      "execution_count": null,
      "id": "94cb45a6-ad72-4938-9864-16b5cf8bb8b5",
      "metadata": {
        "id": "94cb45a6-ad72-4938-9864-16b5cf8bb8b5"
      },
      "outputs": [],
      "source": [
        "#Leave P-Out cross-validation\n",
        "lpo = LeavePOut(2)\n",
        "lpo.get_n_splits(x_encoded)"
      ]
    },
    {
      "cell_type": "code",
      "execution_count": null,
      "id": "48cdcf25-9640-447c-b9e3-329cdd71eb3e",
      "metadata": {
        "id": "48cdcf25-9640-447c-b9e3-329cdd71eb3e"
      },
      "outputs": [],
      "source": [
        "decision_tree_model = DecisionTreeClassifier()"
      ]
    },
    {
      "cell_type": "code",
      "execution_count": null,
      "id": "c2409699-0d5c-4575-aa14-476611765969",
      "metadata": {
        "id": "c2409699-0d5c-4575-aa14-476611765969"
      },
      "outputs": [],
      "source": [
        "leave_pout_acc = cross_val_score(decision_tree_model,x_encoded,y_encoded,cv=lpo).mean() *100\n",
        "leave_pout_f1 = cross_val_score(decision_tree_model,x_encoded,y_encoded,cv=lpo, scoring=\"f1_weighted\").mean() * 100\n",
        "print(\"Leave P-Out cross-validation accuracy\", leave_pout_acc, \"%\")\n",
        "print(\"Leave P-Out cross-validation F1 score\", leave_pout_f1, \"%\")"
      ]
    },
    {
      "cell_type": "code",
      "execution_count": null,
      "id": "f4eea180-eec5-41ec-b5a3-58e10a85f46d",
      "metadata": {
        "id": "f4eea180-eec5-41ec-b5a3-58e10a85f46d"
      },
      "outputs": [],
      "source": [
        "df2 = pd.read_csv('/content/drive/My Drive/IDS/gender-prediction-2.csv')\n",
        "df2"
      ]
    },
    {
      "cell_type": "markdown",
      "source": [
        "![image.png](data:image/png;base64,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)"
      ],
      "metadata": {
        "id": "INZeYyk61-Ai"
      },
      "id": "INZeYyk61-Ai"
    },
    {
      "cell_type": "code",
      "execution_count": null,
      "id": "709bb4ad-d4df-4463-9de8-e974a013b0a0",
      "metadata": {
        "id": "709bb4ad-d4df-4463-9de8-e974a013b0a0"
      },
      "outputs": [],
      "source": [
        "train_data = df2.iloc[:80]\n",
        "train_data\n",
        "test_data = df2.iloc[80:]\n",
        "test_data"
      ]
    },
    {
      "cell_type": "code",
      "execution_count": null,
      "id": "f05e398f-e2cc-4438-a094-725bdd40ff16",
      "metadata": {
        "id": "f05e398f-e2cc-4438-a094-725bdd40ff16"
      },
      "outputs": [],
      "source": [
        "labels = preprocessing.LabelEncoder()\n",
        "\n",
        "train_beard_encoded = labels.fit_transform(train_data['beard'])\n",
        "train_hair_length_encoded = labels.fit_transform(train_data['hair_length'])\n",
        "train_scarf_encoded = labels.fit_transform(train_data['scarf'])\n",
        "train_eye_color_encoded = labels.fit_transform(train_data['eye_color'])"
      ]
    },
    {
      "cell_type": "code",
      "execution_count": null,
      "id": "3c6ddeca-85df-4c08-844d-0b4356b9cca5",
      "metadata": {
        "id": "3c6ddeca-85df-4c08-844d-0b4356b9cca5"
      },
      "outputs": [],
      "source": [
        "X_train = list(zip(train_data['height'], train_data['weight'], train_beard_encoded, train_hair_length_encoded, train_data['shoe_size'], train_scarf_encoded, train_eye_color_encoded))\n",
        "Y_train = train_data['gender']"
      ]
    },
    {
      "cell_type": "code",
      "execution_count": null,
      "id": "8f288a4f-06c3-4a6a-8d37-76b7ed712b9d",
      "metadata": {
        "id": "8f288a4f-06c3-4a6a-8d37-76b7ed712b9d"
      },
      "outputs": [],
      "source": [
        "test_beard_encoded = labels.fit_transform(test_data['beard'])\n",
        "test_hair_length_encoded = labels.fit_transform(test_data['hair_length'])\n",
        "test_scarf_encoded = labels.fit_transform(test_data['scarf'])\n",
        "test_eye_color_encoded = labels.fit_transform(test_data['eye_color'])"
      ]
    },
    {
      "cell_type": "code",
      "execution_count": null,
      "id": "02de2c4f-1844-42ab-b14f-6467ac5f9be3",
      "metadata": {
        "id": "02de2c4f-1844-42ab-b14f-6467ac5f9be3"
      },
      "outputs": [],
      "source": [
        "x_test = list(zip(test_data['height'], test_data['weight'], test_beard_encoded, test_hair_length_encoded, test_data['shoe_size'], test_scarf_encoded, test_eye_color_encoded))\n",
        "y_test = test_data['gender']"
      ]
    },
    {
      "cell_type": "code",
      "execution_count": null,
      "id": "173d7a87-b1be-4203-8be4-61736e63b727",
      "metadata": {
        "id": "173d7a87-b1be-4203-8be4-61736e63b727"
      },
      "outputs": [],
      "source": [
        "gnb_model = GaussianNB()"
      ]
    },
    {
      "cell_type": "code",
      "execution_count": null,
      "id": "d66e8e60-82cb-43ef-a9a0-e44eabbbec11",
      "metadata": {
        "colab": {
          "base_uri": "https://localhost:8080/"
        },
        "id": "d66e8e60-82cb-43ef-a9a0-e44eabbbec11",
        "outputId": "24ece07d-fe79-4738-dc2c-d9145470f3a3"
      },
      "outputs": [
        {
          "output_type": "execute_result",
          "data": {
            "text/plain": [
              "GaussianNB()"
            ]
          },
          "metadata": {},
          "execution_count": 18
        }
      ],
      "source": [
        "gnb_model.fit(X_train,Y_train)"
      ]
    },
    {
      "cell_type": "code",
      "execution_count": null,
      "id": "d802143d-7262-4da9-917c-88a04cc631b6",
      "metadata": {
        "id": "d802143d-7262-4da9-917c-88a04cc631b6"
      },
      "outputs": [],
      "source": [
        "prediction = gnb_model.predict(x_test)"
      ]
    },
    {
      "cell_type": "code",
      "execution_count": null,
      "id": "384eac6a-1332-4d7e-a6a9-e097f5998a76",
      "metadata": {
        "id": "384eac6a-1332-4d7e-a6a9-e097f5998a76",
        "colab": {
          "base_uri": "https://localhost:8080/"
        },
        "outputId": "5965e37f-e3e7-4adb-fd52-f2d70877ed0a"
      },
      "outputs": [
        {
          "output_type": "stream",
          "name": "stdout",
          "text": [
            "Gaussian Naive Bayes accuracy =  80.0 %\n",
            "Gaussian Naive Bayes precision =  87.5 %\n",
            "Gaussian Naive Bayes recall =  75.0 %\n"
          ]
        }
      ],
      "source": [
        "model_acc = accuracy_score(y_test, prediction)*100\n",
        "model_precision = precision_score(y_test, prediction, average=None).mean() *100\n",
        "model_recall = recall_score(y_test, prediction, average=None).mean() *100\n",
        "print(\"Gaussian Naive Bayes accuracy = \", model_acc, \"%\")\n",
        "print(\"Gaussian Naive Bayes precision = \", model_precision, \"%\")\n",
        "print(\"Gaussian Naive Bayes recall = \", model_recall, \"%\")"
      ]
    }
  ],
  "metadata": {
    "kernelspec": {
      "display_name": "Python 3 (ipykernel)",
      "language": "python",
      "name": "python3"
    },
    "language_info": {
      "codemirror_mode": {
        "name": "ipython",
        "version": 3
      },
      "file_extension": ".py",
      "mimetype": "text/x-python",
      "name": "python",
      "nbconvert_exporter": "python",
      "pygments_lexer": "ipython3",
      "version": "3.10.0"
    },
    "colab": {
      "provenance": []
    }
  },
  "nbformat": 4,
  "nbformat_minor": 5
}