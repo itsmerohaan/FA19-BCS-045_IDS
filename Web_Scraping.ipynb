{
  "nbformat": 4,
  "nbformat_minor": 0,
  "metadata": {
    "colab": {
      "provenance": [],
      "collapsed_sections": []
    },
    "kernelspec": {
      "name": "python3",
      "display_name": "Python 3"
    },
    "language_info": {
      "name": "python"
    }
  },
  "cells": [
    {
      "cell_type": "code",
      "execution_count": null,
      "metadata": {
        "id": "qYxnHl76znPM"
      },
      "outputs": [],
      "source": [
        "import requests\n",
        "from bs4 import BeautifulSoup"
      ]
    },
    {
      "cell_type": "code",
      "source": [
        "headers = {'User-agent': 'Mozilla/5.0'}\n",
        "\n",
        "request = requests.get(\"https://www.bbc.com/urdu\", headers=headers)\n",
        "html = request.content\n",
        "\n",
        "soup = BeautifulSoup(html, 'html.parser')"
      ],
      "metadata": {
        "id": "_VJ-JBMc0VT_"
      },
      "execution_count": null,
      "outputs": []
    },
    {
      "cell_type": "code",
      "source": [
        "print(soup.prettify())"
      ],
      "metadata": {
        "id": "-RZgsZQ90dDB"
      },
      "execution_count": null,
      "outputs": []
    },
    {
      "cell_type": "code",
      "source": [
        "for row in soup.find_all('a', attrs = {'class':'bbc-1fxtbkn ecljyjm0'}):\n",
        "  print (row.span.text)"
      ],
      "metadata": {
        "id": "kLTbkYv82AC2"
      },
      "execution_count": null,
      "outputs": []
    }
  ]
}