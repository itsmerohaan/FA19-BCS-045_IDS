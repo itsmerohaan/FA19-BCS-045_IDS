{
  "nbformat": 4,
  "nbformat_minor": 0,
  "metadata": {
    "colab": {
      "provenance": []
    },
    "kernelspec": {
      "name": "python3",
      "display_name": "Python 3"
    },
    "language_info": {
      "name": "python"
    }
  },
  "cells": [
    {
      "cell_type": "code",
      "execution_count": 13,
      "metadata": {
        "id": "PSCm4JYNl1SQ"
      },
      "outputs": [],
      "source": [
        "import numpy as np\n",
        "import pandas as pd\n",
        "from sklearn.feature_extraction.text import CountVectorizer, TfidfVectorizer, TfidfTransformer\n",
        "import warnings\n",
        "warnings.filterwarnings('ignore')\n",
        "from numpy.linalg import norm"
      ]
    },
    {
      "cell_type": "code",
      "source": [
        "S1 = \"sunshine state enjoy sunshine\"\n",
        "S2 = \"brown fox jump high, brown fox run\"\n",
        "S3 = \"sunshine state fox run fast\""
      ],
      "metadata": {
        "id": "nFUc2XItmEDY"
      },
      "execution_count": 14,
      "outputs": []
    },
    {
      "cell_type": "code",
      "source": [
        "CountVec = CountVectorizer(ngram_range=(1,1))"
      ],
      "metadata": {
        "id": "YlyWuYZkmFvu"
      },
      "execution_count": 15,
      "outputs": []
    },
    {
      "cell_type": "code",
      "source": [
        "Count_data = CountVec.fit_transform([S1,S2,S3])\n",
        "cv_data = Count_data.toarray()"
      ],
      "metadata": {
        "id": "TEc98OVUmP9l"
      },
      "execution_count": 16,
      "outputs": []
    },
    {
      "cell_type": "code",
      "source": [
        "cv_dataframe=pd.DataFrame(cv_data,columns=CountVec.get_feature_names())\n",
        "print(cv_dataframe)"
      ],
      "metadata": {
        "id": "EzlAKBiamSO4"
      },
      "execution_count": null,
      "outputs": []
    },
    {
      "cell_type": "code",
      "source": [
        "tf_vec = TfidfVectorizer(use_idf=False)\n",
        "tf_data = tf_vec.fit_transform([S1, S2, S3])\n",
        "tf= np.round_(tf_data.toarray(),decimals = 3)"
      ],
      "metadata": {
        "id": "P9Xe3VIcmV-i"
      },
      "execution_count": 20,
      "outputs": []
    },
    {
      "cell_type": "code",
      "source": [
        "tf_dataframe=pd.DataFrame(tf,columns=tf_vec.get_feature_names())\n",
        "tf_dataframe"
      ],
      "metadata": {
        "id": "r2DWCRGSnKg3"
      },
      "execution_count": null,
      "outputs": []
    },
    {
      "cell_type": "code",
      "source": [
        "tf_idf_vec = TfidfVectorizer(use_idf=True) \n",
        "tf_idf_data = tf_idf_vec.fit_transform([S1, S2, S3])\n",
        "tfidf_data=tf_idf_data.toarray()"
      ],
      "metadata": {
        "id": "XecmfkbemdRz"
      },
      "execution_count": 22,
      "outputs": []
    },
    {
      "cell_type": "code",
      "source": [
        "tf_idf_dataframe=pd.DataFrame(tfidf_data,columns=tf_idf_vec.get_feature_names())\n",
        "tf_idf_dataframe"
      ],
      "metadata": {
        "id": "gXUONH_UnTnR"
      },
      "execution_count": null,
      "outputs": []
    },
    {
      "cell_type": "code",
      "source": [
        "t1 = np.array(tfidf_data[0])\n",
        "t3 = np.array(tfidf_data[2])\n",
        "cosine = np.dot(t1,t3)/(norm(t1)*norm(t3))\n",
        "print(\"Cosine Similarity between S1 & S3:\", round(cosine,2))"
      ],
      "metadata": {
        "id": "sq-BWP1omu7z"
      },
      "execution_count": null,
      "outputs": []
    }
  ]
}