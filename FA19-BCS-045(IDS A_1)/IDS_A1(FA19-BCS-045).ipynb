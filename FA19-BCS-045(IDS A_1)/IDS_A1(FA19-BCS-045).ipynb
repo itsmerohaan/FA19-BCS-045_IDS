{
  "nbformat": 4,
  "nbformat_minor": 0,
  "metadata": {
    "colab": {
      "provenance": [],
      "collapsed_sections": []
    },
    "kernelspec": {
      "name": "python3",
      "display_name": "Python 3"
    },
    "language_info": {
      "name": "python"
    }
  },
  "cells": [
    {
      "cell_type": "code",
      "execution_count": 6,
      "metadata": {
        "id": "hoMGoS8boStU"
      },
      "outputs": [],
      "source": [
        "import matplotlib.pyplot as plt\n",
        "import numpy as np\n",
        "import pandas as pd\n",
        "import seaborn as sns\n",
        "import re"
      ]
    },
    {
      "cell_type": "code",
      "source": [
        "from google.colab import drive\n",
        "drive.mount('/content/drive')"
      ],
      "metadata": {
        "id": "2RXx6v43odQs"
      },
      "execution_count": null,
      "outputs": []
    },
    {
      "cell_type": "code",
      "source": [
        "df = pd.read_csv('/content/drive/My Drive/IDS/cleaned_dataset.csv')\n",
        "df"
      ],
      "metadata": {
        "id": "UrELGTb5ognY"
      },
      "execution_count": null,
      "outputs": []
    },
    {
      "cell_type": "code",
      "source": [
        "plt.style.use('seaborn-whitegrid')"
      ],
      "metadata": {
        "id": "_qwCnLQio0w4"
      },
      "execution_count": 4,
      "outputs": []
    },
    {
      "cell_type": "code",
      "source": [
        "Hname = df['Name']\n",
        "for name in Hname:\n",
        "    print(re.findall('^[H].*', str(name)))"
      ],
      "metadata": {
        "id": "Hw0gFPNY94Ko"
      },
      "execution_count": null,
      "outputs": []
    },
    {
      "cell_type": "code",
      "source": [
        "names = df['Name']\n",
        "for middle in names:\n",
        "    print(re.findall(r'[A-Z][a-z]+\\s+[A-Z][a-z]+\\s+[A-Z][a-z]+', str(middle)))"
      ],
      "metadata": {
        "id": "dAtzjLTb97JR"
      },
      "execution_count": null,
      "outputs": []
    },
    {
      "cell_type": "code",
      "source": [
        "percentage = df['CGPA'].values\n",
        "total = 134\n",
        "n=0\n",
        "for i in percentage:\n",
        "    if i >= 3.0:\n",
        "        n = n+1\n",
        "a = n/total\n",
        "a = a*100\n",
        "print('Percentage of students who have 3.0 or above CGPA is ',round(a),'%.')"
      ],
      "metadata": {
        "id": "9SQkHtB2-582"
      },
      "execution_count": null,
      "outputs": []
    },
    {
      "cell_type": "code",
      "source": [
        "def label_function(val):\n",
        "    return f'{val / 100 * len(df):.0f}\\n{val:.0f}%'\n",
        "\n",
        "fig, ax1 = plt.subplots(ncols=1, figsize=(10, 5))\n",
        "\n",
        "df.groupby('Gender').size().plot(kind='pie',autopct=label_function,textprops={'fontsize': 20},colors=['r', 'b'], ax=ax1)\n",
        "\n",
        "plt.show()"
      ],
      "metadata": {
        "id": "s3hyR0Gnp72x"
      },
      "execution_count": null,
      "outputs": []
    },
    {
      "cell_type": "code",
      "source": [
        "malehistogram = df[df['Gender'] == 'Male']\n",
        "sns.set_style('whitegrid')\n",
        "sns.histplot(x='CGPA', data = malehistogram, bins=[2.0,2.6,3.1,3.6,4.0])\n",
        "plt.show()"
      ],
      "metadata": {
        "id": "n0pTaPJaAA4H"
      },
      "execution_count": null,
      "outputs": []
    },
    {
      "cell_type": "code",
      "source": [
        "df = df[df.Gender.isin(['Female', 'Male'])]\n",
        "sns.set_style('whitegrid')\n",
        "sns.scatterplot(x='Gender', y='HSSC-1', hue='Gender', style='Gender',  data=df, palette=['Blue', 'Red'])\n",
        "plt.title('Scatter plot of HSSC-1 marks')\n",
        "plt.show()"
      ],
      "metadata": {
        "id": "7k0E4FRyA_PI"
      },
      "execution_count": null,
      "outputs": []
    },
    {
      "cell_type": "code",
      "source": [
        "df[\"idx\"] = [f'{i}' for i in range(1,135)]\n",
        "\n",
        "Index = df['FavoriteColor']\n",
        "M = Index[df['Gender'] == 'Male']\n",
        "F = Index[df['Gender'] == 'Female']\n",
        "\n",
        "gender = df['idx']\n",
        "m = gender[df['Gender'] == 'Male']\n",
        "f = gender[df['Gender'] == 'Female']\n",
        "\n",
        "plt.figure(figsize=(20,8))\n",
        "plt.bar(M,m,label='Male')\n",
        "plt.bar(F,f,label='Female')\n",
        "plt.legend()\n",
        "plt.show()"
      ],
      "metadata": {
        "id": "gnCPD_D0B28X"
      },
      "execution_count": null,
      "outputs": []
    },
    {
      "cell_type": "code",
      "source": [
        "birthmonth = df['BirthMonth']\n",
        "names = df['Name']\n",
        "plt.figure(figsize=(25,50))\n",
        "plt.plot(birthmonth,names)\n",
        "plt.show()"
      ],
      "metadata": {
        "id": "rcqT0L8RDq1-"
      },
      "execution_count": null,
      "outputs": []
    },
    {
      "cell_type": "code",
      "source": [
        "print('Correlation Matrix between HSSC-1 and HSSC-2 marks')\n",
        "print(df[['HSSC-1','HSSC-2']].corr())\n",
        "sns.heatmap(df[['HSSC-1','HSSC-2']].corr(), annot = True, fmt='.2g',cmap= 'Greens')\n",
        "plt.show()"
      ],
      "metadata": {
        "id": "lINyBrx7ESfE"
      },
      "execution_count": null,
      "outputs": []
    }
  ]
}